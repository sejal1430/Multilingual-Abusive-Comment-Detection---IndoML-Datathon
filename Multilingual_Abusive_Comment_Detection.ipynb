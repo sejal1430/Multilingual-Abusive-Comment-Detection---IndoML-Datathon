{
  "nbformat": 4,
  "nbformat_minor": 0,
  "metadata": {
    "colab": {
      "name": "Multilingual Abusive Comment Detection.ipynb",
      "provenance": [],
      "collapsed_sections": []
    },
    "kernelspec": {
      "display_name": "Python 3",
      "name": "python3"
    },
    "language_info": {
      "name": "python"
    }
  },
  "cells": [
    {
      "cell_type": "code",
      "metadata": {
        "id": "adQLzyK3_CMK",
        "colab": {
          "base_uri": "https://localhost:8080/"
        },
        "outputId": "3ee3e432-55a0-4543-a476-f306078d78de"
      },
      "source": [
        "import pandas as pd\n",
        "import re\n",
        "import numpy as np\n",
        "from tqdm.auto import tqdm\n",
        "import matplotlib.pyplot as plt\n",
        "from google.colab import drive\n",
        "from google.colab import data_table\n",
        "drive.mount('/content/drive')"
      ],
      "execution_count": null,
      "outputs": [
        {
          "output_type": "stream",
          "name": "stdout",
          "text": [
            "Mounted at /content/drive\n"
          ]
        }
      ]
    },
    {
      "cell_type": "code",
      "metadata": {
        "id": "2nqdqYQcPELh"
      },
      "source": [
        "def read_csv(path:str):\n",
        "    file = open(path, \"r\").read()\n",
        "    ix = []\n",
        "    ctx = []\n",
        "\n",
        "    for row in file.split(\"\\n\"):\n",
        "        l = re.sub(',(?!(?=[^\"]*\"[^\"]*(?:\"[^\"]*\"[^\"]*)*$))', \"\\t\", row)\n",
        "        try:\n",
        "            lk = l.split(\"\\t\")\n",
        "            if len(lk)>2 and len(lk[0])<6:\n",
        "                p,q= lk[0], lk[1]\n",
        "                ix.append(p)\n",
        "                ctx.append(q)\n",
        "            else:\n",
        "                lk=row.replace('\"', \" \")\n",
        "                lk=lk.split(\",\")\n",
        "                p,q = lk[0], lk[1]\n",
        "                ix.append(p)\n",
        "                ctx.append(q)\n",
        "        except Exception as e:\n",
        "            print(\"Exception occurred!.\", e)\n",
        "            print(f\"Length of ids obtained: {len(ix)}, and text: {len(ctx)}\")\n",
        "\n",
        "    df = pd.DataFrame()\n",
        "    df[\"CommentId\"]=ix[1:]\n",
        "    df[\"commentText\"]=ctx[1:]\n",
        "    df = df.astype(dtype={\"CommentId\":int, \"commentText\":str})\n",
        "    return df\n",
        "\n",
        "# %time df = read_csv(\"../input/multilingualabusivecomment/ShareChat-IndoML-Datathon-NSFW-CommentChallenge_Test_20_Percent_NoLabel.csv\")\n",
        "# df.tail()"
      ],
      "execution_count": null,
      "outputs": []
    },
    {
      "cell_type": "markdown",
      "metadata": {
        "id": "2k40a07VMmCo"
      },
      "source": [
        "Data Visualisation"
      ]
    },
    {
      "cell_type": "code",
      "metadata": {
        "id": "9zTxa3eDCA0R"
      },
      "source": [
        "data = pd.read_csv('/content/drive/MyDrive/Colab Notebooks/ShareChat-IndoML-Datathon-NSFW-CommentChallenge_Train.csv', error_bad_lines=False)\n",
        "%time test = read_csv('/content/drive/MyDrive/Colab Notebooks/ShareChat-IndoML-Datathon-NSFW-CommentChallenge_Test_NoLabel.csv')\n",
        "data_table.DataTable(data,include_index=False,num_rows_per_page=10)"
      ],
      "execution_count": null,
      "outputs": []
    },
    {
      "cell_type": "code",
      "metadata": {
        "colab": {
          "base_uri": "https://localhost:8080/"
        },
        "id": "jxBWLd6F5xzZ",
        "outputId": "cad56f5e-d937-4182-ad2e-13ca3b239201"
      },
      "source": [
        "test.shape"
      ],
      "execution_count": null,
      "outputs": [
        {
          "output_type": "execute_result",
          "data": {
            "text/plain": [
              "(641035, 2)"
            ]
          },
          "metadata": {},
          "execution_count": 4
        }
      ]
    },
    {
      "cell_type": "code",
      "metadata": {
        "id": "MCUqUBMNcVIW",
        "colab": {
          "base_uri": "https://localhost:8080/"
        },
        "outputId": "bc4298b9-a73b-4c51-9982-2bc9835249b6"
      },
      "source": [
        "data.isnull().sum()"
      ],
      "execution_count": null,
      "outputs": [
        {
          "output_type": "execute_result",
          "data": {
            "text/plain": [
              "CommentId                 0\n",
              "commentText               1\n",
              "language                195\n",
              "user_index              201\n",
              "post_index              205\n",
              "report_count_comment    208\n",
              "report_count_post       212\n",
              "like_count_comment      217\n",
              "like_count_post         218\n",
              "label                   219\n",
              "dtype: int64"
            ]
          },
          "metadata": {},
          "execution_count": 5
        }
      ]
    },
    {
      "cell_type": "code",
      "metadata": {
        "id": "i1fX0oUVhs_1",
        "colab": {
          "base_uri": "https://localhost:8080/"
        },
        "outputId": "48c11052-4f6e-42ec-974d-1b138b83c60d"
      },
      "source": [
        "data = data.dropna(how='any', axis=0)\n",
        "data.shape"
      ],
      "execution_count": null,
      "outputs": [
        {
          "output_type": "execute_result",
          "data": {
            "text/plain": [
              "(1483286, 10)"
            ]
          },
          "metadata": {},
          "execution_count": 6
        }
      ]
    },
    {
      "cell_type": "code",
      "metadata": {
        "colab": {
          "base_uri": "https://localhost:8080/"
        },
        "id": "2VQg84SAQ_Vg",
        "outputId": "41e9ec7d-95e2-446d-c279-3cd997b34b57"
      },
      "source": [
        "data.columns"
      ],
      "execution_count": null,
      "outputs": [
        {
          "output_type": "execute_result",
          "data": {
            "text/plain": [
              "Index(['CommentId', 'commentText', 'language', 'user_index', 'post_index',\n",
              "       'report_count_comment', 'report_count_post', 'like_count_comment',\n",
              "       'like_count_post', 'label'],\n",
              "      dtype='object')"
            ]
          },
          "metadata": {},
          "execution_count": 7
        }
      ]
    },
    {
      "cell_type": "code",
      "metadata": {
        "id": "bZMvJNDXqNHZ",
        "colab": {
          "base_uri": "https://localhost:8080/"
        },
        "outputId": "5e12ea8d-7c45-49f0-d025-406c38ac1a79"
      },
      "source": [
        "data['language'].value_counts(normalize=True)"
      ],
      "execution_count": null,
      "outputs": [
        {
          "output_type": "execute_result",
          "data": {
            "text/plain": [
              "Hindi         0.332548\n",
              "English       0.116975\n",
              "Malayalam     0.108512\n",
              "Telugu        0.098174\n",
              "Tamil         0.085324\n",
              "Punjabi       0.068695\n",
              "Kannada       0.054439\n",
              "Bengali       0.031354\n",
              "Odia          0.025383\n",
              "Bhojpuri      0.025312\n",
              "Marathi       0.020679\n",
              "Gujarati      0.015779\n",
              "Haryanvi      0.008797\n",
              "Rajasthani    0.003478\n",
              "Assamese      0.002403\n",
              "Urdu          0.002148\n",
              "Name: language, dtype: float64"
            ]
          },
          "metadata": {},
          "execution_count": 8
        }
      ]
    },
    {
      "cell_type": "code",
      "metadata": {
        "id": "ejjg_0nrBbuz",
        "colab": {
          "base_uri": "https://localhost:8080/",
          "height": 493
        },
        "outputId": "bb1f38e3-4bcc-46b8-e2ba-963213865330"
      },
      "source": [
        "lang_df = pd.DataFrame(data['language'])\n",
        "lang_cnt = lang_df.value_counts()\n",
        "lang_cnt.plot.bar(figsize=(10,6), fontsize=15)"
      ],
      "execution_count": null,
      "outputs": [
        {
          "output_type": "execute_result",
          "data": {
            "text/plain": [
              "<matplotlib.axes._subplots.AxesSubplot at 0x7f5479a6ea90>"
            ]
          },
          "metadata": {},
          "execution_count": 9
        },
        {
          "output_type": "display_data",
          "data": {
            "image/png": "[encoded data removed]",
            "text/plain": [
              "<Figure size 720x432 with 1 Axes>"
            ]
          },
          "metadata": {
            "needs_background": "light"
          }
        }
      ]
    },
    {
      "cell_type": "code",
      "metadata": {
        "id": "4gNTIf84rp-A",
        "colab": {
          "base_uri": "https://localhost:8080/",
          "height": 291
        },
        "outputId": "90753381-46b8-4778-a330-4a0556da4bdf"
      },
      "source": [
        "data['label'].value_counts(normalize=True).plot.bar()"
      ],
      "execution_count": null,
      "outputs": [
        {
          "output_type": "execute_result",
          "data": {
            "text/plain": [
              "<matplotlib.axes._subplots.AxesSubplot at 0x7f5479a1b750>"
            ]
          },
          "metadata": {},
          "execution_count": 10
        },
        {
          "output_type": "display_data",
          "data": {
            "image/png": "[encoded data removed]",
            "text/plain": [
              "<Figure size 432x288 with 1 Axes>"
            ]
          },
          "metadata": {
            "needs_background": "light"
          }
        }
      ]
    },
    {
      "cell_type": "markdown",
      "metadata": {
        "id": "pAyhsifnfVvv"
      },
      "source": [
        "Data Preprocessing and Normalisation"
      ]
    },
    {
      "cell_type": "code",
      "metadata": {
        "id": "D8fLdiKXL__i",
        "colab": {
          "base_uri": "https://localhost:8080/"
        },
        "outputId": "4eae5c53-e325-48d0-f0ad-733e7be0fd66"
      },
      "source": [
        "!pip install emoji"
      ],
      "execution_count": null,
      "outputs": [
        {
          "output_type": "stream",
          "name": "stdout",
          "text": [
            "Collecting emoji\n",
            "  Downloading emoji-1.6.1.tar.gz (170 kB)\n",
            "\u001b[?25l\r\u001b[K     |██                              | 10 kB 26.5 MB/s eta 0:00:01\r\u001b[K     |███▉                            | 20 kB 25.8 MB/s eta 0:00:01\r\u001b[K     |█████▉                          | 30 kB 11.9 MB/s eta 0:00:01\r\u001b[K     |███████▊                        | 40 kB 9.3 MB/s eta 0:00:01\r\u001b[K     |█████████▋                      | 51 kB 4.9 MB/s eta 0:00:01\r\u001b[K     |███████████▋                    | 61 kB 5.3 MB/s eta 0:00:01\r\u001b[K     |█████████████▌                  | 71 kB 5.7 MB/s eta 0:00:01\r\u001b[K     |███████████████▍                | 81 kB 6.4 MB/s eta 0:00:01\r\u001b[K     |█████████████████▍              | 92 kB 6.6 MB/s eta 0:00:01\r\u001b[K     |███████████████████▎            | 102 kB 5.2 MB/s eta 0:00:01\r\u001b[K     |█████████████████████▏          | 112 kB 5.2 MB/s eta 0:00:01\r\u001b[K     |███████████████████████▏        | 122 kB 5.2 MB/s eta 0:00:01\r\u001b[K     |█████████████████████████       | 133 kB 5.2 MB/s eta 0:00:01\r\u001b[K     |███████████████████████████     | 143 kB 5.2 MB/s eta 0:00:01\r\u001b[K     |█████████████████████████████   | 153 kB 5.2 MB/s eta 0:00:01\r\u001b[K     |██████████████████████████████▉ | 163 kB 5.2 MB/s eta 0:00:01\r\u001b[K     |████████████████████████████████| 170 kB 5.2 MB/s \n",
            "\u001b[?25hBuilding wheels for collected packages: emoji\n",
            "  Building wheel for emoji (setup.py) ... \u001b[?25l\u001b[?25hdone\n",
            "  Created wheel for emoji: filename=emoji-1.6.1-py3-none-any.whl size=169314 sha256=ae095922c397d2820b5f7ff19267669f20d1f36a8680eb8e6e0e7114f2381819\n",
            "  Stored in directory: /root/.cache/pip/wheels/ea/5f/d3/03d313ddb3c2a1a427bb4690f1621eea60fe6f2a30cc95940f\n",
            "Successfully built emoji\n",
            "Installing collected packages: emoji\n",
            "Successfully installed emoji-1.6.1\n"
          ]
        }
      ]
    },
    {
      "cell_type": "code",
      "metadata": {
        "id": "SPSsGLpeMBgV"
      },
      "source": [
        "import re"
      ],
      "execution_count": null,
      "outputs": []
    },
    {
      "cell_type": "code",
      "metadata": {
        "id": "9Qc2qHtMMFtw",
        "colab": {
          "base_uri": "https://localhost:8080/"
        },
        "outputId": "6c9a36a5-1614-45cd-be17-7287846af482"
      },
      "source": [
        "# Remove emojis from comments\n",
        "\n",
        "import emoji\n",
        "def give_emoji_free_text(text):\n",
        "    return text.encode('ascii', 'ignore').decode('ascii')\n",
        "\n",
        "data['commentText'] = data['commentText'].apply(lambda x: give_emoji_free_text(x))\n",
        "test['commentText'] = test['commentText'].apply(lambda x: give_emoji_free_text(x))"
      ],
      "execution_count": null,
      "outputs": [
        {
          "output_type": "stream",
          "name": "stderr",
          "text": [
            "/usr/local/lib/python3.7/dist-packages/ipykernel_launcher.py:7: SettingWithCopyWarning: \n",
            "A value is trying to be set on a copy of a slice from a DataFrame.\n",
            "Try using .loc[row_indexer,col_indexer] = value instead\n",
            "\n",
            "See the caveats in the documentation: https://pandas.pydata.org/pandas-docs/stable/user_guide/indexing.html#returning-a-view-versus-a-copy\n",
            "  import sys\n"
          ]
        }
      ]
    },
    {
      "cell_type": "code",
      "metadata": {
        "id": "8Gp8IwQZQDlO",
        "colab": {
          "base_uri": "https://localhost:8080/"
        },
        "outputId": "5d182732-e9de-4047-fafd-a0daf5a01954"
      },
      "source": [
        "# Lower casing comments\n",
        "data['commentText'] = data['commentText'].str.lower()\n",
        "test['commentText'] = test['commentText'].str.lower()"
      ],
      "execution_count": null,
      "outputs": [
        {
          "output_type": "stream",
          "name": "stderr",
          "text": [
            "/usr/local/lib/python3.7/dist-packages/ipykernel_launcher.py:2: SettingWithCopyWarning: \n",
            "A value is trying to be set on a copy of a slice from a DataFrame.\n",
            "Try using .loc[row_indexer,col_indexer] = value instead\n",
            "\n",
            "See the caveats in the documentation: https://pandas.pydata.org/pandas-docs/stable/user_guide/indexing.html#returning-a-view-versus-a-copy\n",
            "  \n"
          ]
        }
      ]
    },
    {
      "cell_type": "code",
      "metadata": {
        "id": "1Np2izbDMMf3",
        "colab": {
          "base_uri": "https://localhost:8080/"
        },
        "outputId": "4337dd2d-0cec-403d-a981-7ffd1f78a0eb"
      },
      "source": [
        "from sklearn import preprocessing\n",
        "import string\n",
        "import nltk\n",
        "nltk.download('stopwords')\n",
        "nltk.download('punkt')\n",
        "nltk.download('wordnet')\n",
        "from nltk.corpus import stopwords\n",
        "from nltk.tokenize import word_tokenize"
      ],
      "execution_count": null,
      "outputs": [
        {
          "output_type": "stream",
          "name": "stdout",
          "text": [
            "[nltk_data] Downloading package stopwords to /root/nltk_data...\n",
            "[nltk_data]   Unzipping corpora/stopwords.zip.\n",
            "[nltk_data] Downloading package punkt to /root/nltk_data...\n",
            "[nltk_data]   Unzipping tokenizers/punkt.zip.\n",
            "[nltk_data] Downloading package wordnet to /root/nltk_data...\n",
            "[nltk_data]   Unzipping corpora/wordnet.zip.\n"
          ]
        }
      ]
    },
    {
      "cell_type": "code",
      "metadata": {
        "id": "1lzzjaR4MOsN",
        "colab": {
          "base_uri": "https://localhost:8080/"
        },
        "outputId": "33bf13b2-f07c-4563-e7e8-8ce1863df576"
      },
      "source": [
        "# Removal of Stop words\n",
        "stop_words = set(stopwords.words('english'))\n",
        "def removing_stopwords(text):\n",
        "  return ' '.join([word for word in str(text).split() if word not in stop_words])\n",
        "data['commentText'] = data['commentText'].apply(lambda text: removing_stopwords(text))\n",
        "test['commentText'] = test['commentText'].apply(lambda text: removing_stopwords(text))"
      ],
      "execution_count": null,
      "outputs": [
        {
          "output_type": "stream",
          "name": "stderr",
          "text": [
            "/usr/local/lib/python3.7/dist-packages/ipykernel_launcher.py:5: SettingWithCopyWarning: \n",
            "A value is trying to be set on a copy of a slice from a DataFrame.\n",
            "Try using .loc[row_indexer,col_indexer] = value instead\n",
            "\n",
            "See the caveats in the documentation: https://pandas.pydata.org/pandas-docs/stable/user_guide/indexing.html#returning-a-view-versus-a-copy\n",
            "  \"\"\"\n"
          ]
        }
      ]
    },
    {
      "cell_type": "code",
      "metadata": {
        "id": "e6tPrMDMMSSc",
        "colab": {
          "base_uri": "https://localhost:8080/"
        },
        "outputId": "0bc1d4e2-7fab-4be7-b734-ed392946d0e6"
      },
      "source": [
        "# Removal of Punctuations\n",
        "punctuations_list = string.punctuation\n",
        "def removing_punctuations(text):\n",
        "  translator = str.maketrans('', '', punctuations_list)\n",
        "  return text.translate(translator)\n",
        "data['commentText'] = data['commentText'].apply(lambda text: removing_punctuations(text))\n",
        "test['commentText'] = test['commentText'].apply(lambda text: removing_punctuations(text))"
      ],
      "execution_count": null,
      "outputs": [
        {
          "output_type": "stream",
          "name": "stderr",
          "text": [
            "/usr/local/lib/python3.7/dist-packages/ipykernel_launcher.py:6: SettingWithCopyWarning: \n",
            "A value is trying to be set on a copy of a slice from a DataFrame.\n",
            "Try using .loc[row_indexer,col_indexer] = value instead\n",
            "\n",
            "See the caveats in the documentation: https://pandas.pydata.org/pandas-docs/stable/user_guide/indexing.html#returning-a-view-versus-a-copy\n",
            "  \n"
          ]
        }
      ]
    },
    {
      "cell_type": "code",
      "metadata": {
        "id": "PvOm6R_kMUgQ",
        "colab": {
          "base_uri": "https://localhost:8080/"
        },
        "outputId": "d95badb9-fea5-4c1d-8ce7-8169997d2aae"
      },
      "source": [
        "# Removing whitespaces, tabs, and newlines..\n",
        "data['commentText'] = data['commentText'].str.replace('\\n', '')\n",
        "data['commentText'] = data['commentText'].str.replace('\\t', ' ')\n",
        "data['commentText'] = data['commentText'].str.replace(' {2,}', ' ', regex=True)\n",
        "data['commentText'] = data['commentText'].str.strip()\n",
        "\n",
        "test['commentText'] = test['commentText'].str.replace('\\n', '')\n",
        "test['commentText'] = test['commentText'].str.replace('\\t', ' ')\n",
        "test['commentText'] = test['commentText'].str.replace(' {2,}', ' ', regex=True)\n",
        "test['commentText'] = test['commentText'].str.strip()"
      ],
      "execution_count": null,
      "outputs": [
        {
          "output_type": "stream",
          "name": "stderr",
          "text": [
            "/usr/local/lib/python3.7/dist-packages/ipykernel_launcher.py:2: SettingWithCopyWarning: \n",
            "A value is trying to be set on a copy of a slice from a DataFrame.\n",
            "Try using .loc[row_indexer,col_indexer] = value instead\n",
            "\n",
            "See the caveats in the documentation: https://pandas.pydata.org/pandas-docs/stable/user_guide/indexing.html#returning-a-view-versus-a-copy\n",
            "  \n",
            "/usr/local/lib/python3.7/dist-packages/ipykernel_launcher.py:3: SettingWithCopyWarning: \n",
            "A value is trying to be set on a copy of a slice from a DataFrame.\n",
            "Try using .loc[row_indexer,col_indexer] = value instead\n",
            "\n",
            "See the caveats in the documentation: https://pandas.pydata.org/pandas-docs/stable/user_guide/indexing.html#returning-a-view-versus-a-copy\n",
            "  This is separate from the ipykernel package so we can avoid doing imports until\n",
            "/usr/local/lib/python3.7/dist-packages/ipykernel_launcher.py:4: SettingWithCopyWarning: \n",
            "A value is trying to be set on a copy of a slice from a DataFrame.\n",
            "Try using .loc[row_indexer,col_indexer] = value instead\n",
            "\n",
            "See the caveats in the documentation: https://pandas.pydata.org/pandas-docs/stable/user_guide/indexing.html#returning-a-view-versus-a-copy\n",
            "  after removing the cwd from sys.path.\n",
            "/usr/local/lib/python3.7/dist-packages/ipykernel_launcher.py:5: SettingWithCopyWarning: \n",
            "A value is trying to be set on a copy of a slice from a DataFrame.\n",
            "Try using .loc[row_indexer,col_indexer] = value instead\n",
            "\n",
            "See the caveats in the documentation: https://pandas.pydata.org/pandas-docs/stable/user_guide/indexing.html#returning-a-view-versus-a-copy\n",
            "  \"\"\"\n"
          ]
        }
      ]
    },
    {
      "cell_type": "code",
      "metadata": {
        "id": "KuzSs6Y5MXJd",
        "colab": {
          "base_uri": "https://localhost:8080/"
        },
        "outputId": "35a353b4-26bb-4412-ee19-41c00d7dd616"
      },
      "source": [
        "# Removing URLs\n",
        "data['commentText'] = data['commentText'].replace(r'http\\S+', '', regex=True).replace(r'www\\S+', '', regex=True)\n",
        "test['commentText'] = test['commentText'].replace(r'http\\S+', '', regex=True).replace(r'www\\S+', '', regex=True)"
      ],
      "execution_count": null,
      "outputs": [
        {
          "output_type": "stream",
          "name": "stderr",
          "text": [
            "/usr/local/lib/python3.7/dist-packages/ipykernel_launcher.py:2: SettingWithCopyWarning: \n",
            "A value is trying to be set on a copy of a slice from a DataFrame.\n",
            "Try using .loc[row_indexer,col_indexer] = value instead\n",
            "\n",
            "See the caveats in the documentation: https://pandas.pydata.org/pandas-docs/stable/user_guide/indexing.html#returning-a-view-versus-a-copy\n",
            "  \n"
          ]
        }
      ]
    },
    {
      "cell_type": "code",
      "metadata": {
        "id": "VNZ56OD9MZSA",
        "colab": {
          "base_uri": "https://localhost:8080/"
        },
        "outputId": "663c68cf-a649-4329-c10e-eed09267b017"
      },
      "source": [
        "# Removal of Numbers\n",
        "def removing_numbers(data):\n",
        "    return re.sub('[0-9]+', '', data)\n",
        "data['commentText'] = data['commentText'].apply(lambda x: removing_numbers(x))\n",
        "test['commentText'] = test['commentText'].apply(lambda x: removing_numbers(x))"
      ],
      "execution_count": null,
      "outputs": [
        {
          "output_type": "stream",
          "name": "stderr",
          "text": [
            "/usr/local/lib/python3.7/dist-packages/ipykernel_launcher.py:4: SettingWithCopyWarning: \n",
            "A value is trying to be set on a copy of a slice from a DataFrame.\n",
            "Try using .loc[row_indexer,col_indexer] = value instead\n",
            "\n",
            "See the caveats in the documentation: https://pandas.pydata.org/pandas-docs/stable/user_guide/indexing.html#returning-a-view-versus-a-copy\n",
            "  after removing the cwd from sys.path.\n"
          ]
        }
      ]
    },
    {
      "cell_type": "code",
      "metadata": {
        "id": "-0iwBijmMbIm",
        "colab": {
          "base_uri": "https://localhost:8080/"
        },
        "outputId": "5cc9f2e4-1354-4a1d-93ba-ba9f26f7bd4a"
      },
      "source": [
        "# Removal of Repeating characters\n",
        "def removing_repeating_char(text):\n",
        "  return re.sub(r'(.)1+', r'1', text)\n",
        "data['commentText'] = data['commentText'].apply(lambda text: removing_repeating_char(text))\n",
        "test['commentText'] = test['commentText'].apply(lambda text: removing_repeating_char(text))"
      ],
      "execution_count": null,
      "outputs": [
        {
          "output_type": "stream",
          "name": "stderr",
          "text": [
            "/usr/local/lib/python3.7/dist-packages/ipykernel_launcher.py:4: SettingWithCopyWarning: \n",
            "A value is trying to be set on a copy of a slice from a DataFrame.\n",
            "Try using .loc[row_indexer,col_indexer] = value instead\n",
            "\n",
            "See the caveats in the documentation: https://pandas.pydata.org/pandas-docs/stable/user_guide/indexing.html#returning-a-view-versus-a-copy\n",
            "  after removing the cwd from sys.path.\n"
          ]
        }
      ]
    },
    {
      "cell_type": "code",
      "metadata": {
        "id": "NoAWRWbcMreL"
      },
      "source": [
        "# Drop empty rows\n",
        "data['commentText'].astype(bool)\n",
        "data = data[data['commentText'].astype(bool)]"
      ],
      "execution_count": null,
      "outputs": []
    },
    {
      "cell_type": "code",
      "metadata": {
        "id": "QOasQzbTMuaT",
        "colab": {
          "base_uri": "https://localhost:8080/"
        },
        "outputId": "b9713d94-c398-4b8f-e9cb-45f3ce619a15"
      },
      "source": [
        "data.shape"
      ],
      "execution_count": null,
      "outputs": [
        {
          "output_type": "execute_result",
          "data": {
            "text/plain": [
              "(1177371, 10)"
            ]
          },
          "metadata": {},
          "execution_count": 23
        }
      ]
    },
    {
      "cell_type": "code",
      "metadata": {
        "colab": {
          "base_uri": "https://localhost:8080/"
        },
        "id": "pvCZhbsdUKnH",
        "outputId": "fe923a57-2c44-45e7-a2ee-d46a5b5afcb9"
      },
      "source": [
        "test.shape"
      ],
      "execution_count": null,
      "outputs": [
        {
          "output_type": "execute_result",
          "data": {
            "text/plain": [
              "(641035, 2)"
            ]
          },
          "metadata": {},
          "execution_count": 24
        }
      ]
    },
    {
      "cell_type": "code",
      "metadata": {
        "id": "1YnWShRCMyKj"
      },
      "source": [
        "# Word tokenisation\n",
        "data['commentText'] = data['commentText'].apply(word_tokenize)\n",
        "test['commentText'] = test['commentText'].apply(word_tokenize)"
      ],
      "execution_count": null,
      "outputs": []
    },
    {
      "cell_type": "code",
      "metadata": {
        "id": "0IWc1TwtM1E5",
        "colab": {
          "base_uri": "https://localhost:8080/"
        },
        "outputId": "93cb11e7-971e-4a9f-c56d-2c6ecd83fc8c"
      },
      "source": [
        "data['commentText']"
      ],
      "execution_count": null,
      "outputs": [
        {
          "output_type": "execute_result",
          "data": {
            "text/plain": [
              "0                                       [randi, ka, deewana]\n",
              "2          [apni, pant, utar, kar, apni, chut, bhi, bata,...\n",
              "3          [krishnatripathi, jesi, ghar, ki, sabhyata, va...\n",
              "4          [randi, ko, dusra, kaam, nahi, hai, kuttiya, k...\n",
              "6                                    [good, night, di, nice]\n",
              "                                 ...                        \n",
              "1483499                                         [next, part]\n",
              "1483501                                              [pavam]\n",
              "1483502                         [enik, ind, post, ittittila]\n",
              "1483503                                 [nirmelp, parayilla]\n",
              "1483504                                              [ettan]\n",
              "Name: commentText, Length: 1177371, dtype: object"
            ]
          },
          "metadata": {},
          "execution_count": 26
        }
      ]
    },
    {
      "cell_type": "code",
      "metadata": {
        "id": "mYs5tdTcM3UQ"
      },
      "source": [
        "# Stemming\n",
        "stemmer = nltk.PorterStemmer()\n",
        "def stemming_on_text(data):\n",
        "  text = [stemmer.stem(word) for word in data]\n",
        "  return text\n",
        "data['commentText'] = data['commentText'].apply(lambda x: stemming_on_text(x))\n",
        "test['commentText'] = test['commentText'].apply(lambda x: stemming_on_text(x))"
      ],
      "execution_count": null,
      "outputs": []
    },
    {
      "cell_type": "code",
      "metadata": {
        "id": "8HKp6Rc7M5Vw"
      },
      "source": [
        "# Lemmatization\n",
        "lm = nltk.WordNetLemmatizer()\n",
        "def lemmatizer_on_text(data):\n",
        "    text = [lm.lemmatize(word) for word in data]\n",
        "    return data\n",
        "data['commentText'] = data['commentText'].apply(lambda x: lemmatizer_on_text(x))\n",
        "test['commentText'] = test['commentText'].apply(lambda x: lemmatizer_on_text(x))"
      ],
      "execution_count": null,
      "outputs": []
    },
    {
      "cell_type": "code",
      "metadata": {
        "id": "Z1oowxPUM9GE",
        "colab": {
          "base_uri": "https://localhost:8080/"
        },
        "outputId": "ffe4a568-34a7-4195-d7f5-818803e38b8a"
      },
      "source": [
        "test.shape"
      ],
      "execution_count": null,
      "outputs": [
        {
          "output_type": "execute_result",
          "data": {
            "text/plain": [
              "(641035, 2)"
            ]
          },
          "metadata": {},
          "execution_count": 29
        }
      ]
    },
    {
      "cell_type": "code",
      "metadata": {
        "id": "pir6eTPQM99k"
      },
      "source": [
        "\n",
        "from sklearn.feature_extraction.text import TfidfVectorizer\n",
        "from sklearn.naive_bayes import MultinomialNB\n",
        "from sklearn.linear_model import LogisticRegression\n",
        "from sklearn.pipeline import make_pipeline\n",
        "from sklearn.linear_model import SGDClassifier\n",
        "from sklearn.model_selection import train_test_split\n",
        "from sklearn.metrics import confusion_matrix, accuracy_score, f1_score"
      ],
      "execution_count": null,
      "outputs": []
    },
    {
      "cell_type": "code",
      "metadata": {
        "id": "8u_-lKtiNL_Y"
      },
      "source": [
        "X=data['commentText']\n",
        "Y=data['label']"
      ],
      "execution_count": null,
      "outputs": []
    },
    {
      "cell_type": "markdown",
      "metadata": {
        "id": "lFog1ZOkNDWn"
      },
      "source": [
        "1. Naive Bayes"
      ]
    },
    {
      "cell_type": "code",
      "metadata": {
        "id": "05oMOMVzNOil"
      },
      "source": [
        "#  X_train, X_test, Y_train, Y_test = train_test_split(X, Y, test_size=0.2, random_state=42)"
      ],
      "execution_count": null,
      "outputs": []
    },
    {
      "cell_type": "code",
      "source": [
        "X_test = test['commentText']"
      ],
      "metadata": {
        "id": "ewWrKXn_Qwbo"
      },
      "execution_count": null,
      "outputs": []
    },
    {
      "cell_type": "code",
      "metadata": {
        "id": "xUcUk4d2NW-8"
      },
      "source": [
        "# Build the model\n",
        "model = make_pipeline(TfidfVectorizer(), MultinomialNB())"
      ],
      "execution_count": null,
      "outputs": []
    },
    {
      "cell_type": "code",
      "metadata": {
        "id": "R43hIKQ8NaZR",
        "colab": {
          "base_uri": "https://localhost:8080/"
        },
        "outputId": "39c0acdb-6fd5-4de7-d9f1-a5858909ef09"
      },
      "source": [
        "# Train the model using the training data\n",
        "model.fit(X.apply(lambda x: ' '.join(x)), Y)"
      ],
      "execution_count": null,
      "outputs": [
        {
          "output_type": "execute_result",
          "data": {
            "text/plain": [
              "Pipeline(steps=[('tfidfvectorizer', TfidfVectorizer()),\n",
              "                ('multinomialnb', MultinomialNB())])"
            ]
          },
          "metadata": {},
          "execution_count": 37
        }
      ]
    },
    {
      "cell_type": "code",
      "metadata": {
        "id": "z6FQvKLtNc7L"
      },
      "source": [
        "# Predict the categories of the test data\n",
        "predicted_labels = model.predict(X_test.apply(lambda x: ' '.join(x)))"
      ],
      "execution_count": null,
      "outputs": []
    },
    {
      "cell_type": "code",
      "metadata": {
        "id": "J8R9XfFIRF7U"
      },
      "source": [
        "labels = pd.DataFrame(predicted_labels, columns=['Label'])\n",
        "commentId = pd.DataFrame(test['CommentId'], columns=['CommentId'])"
      ],
      "execution_count": null,
      "outputs": []
    },
    {
      "cell_type": "code",
      "metadata": {
        "id": "-ANgTGfDRF70"
      },
      "source": [
        "submission = pd.DataFrame()\n",
        "submission['CommentId'] = commentId['CommentId']\n",
        "submission['Label']= labels['Label']"
      ],
      "execution_count": null,
      "outputs": []
    },
    {
      "cell_type": "code",
      "metadata": {
        "id": "3NsLagT-RF71"
      },
      "source": [
        "submission"
      ],
      "execution_count": null,
      "outputs": []
    },
    {
      "cell_type": "code",
      "metadata": {
        "id": "R8K5oUfyRF71"
      },
      "source": [
        "submission.to_csv('/content/drive/MyDrive/Colab Notebooks/submission_naivebayes.csv', sep='\\t', index=None)"
      ],
      "execution_count": null,
      "outputs": []
    },
    {
      "cell_type": "code",
      "metadata": {
        "id": "NL7dp4DxNgmR"
      },
      "source": [
        "# print(\"The accuracy is {}\".format(accuracy_score(Y_test, predicted_labels)))\n",
        "# print(\"The f1_score - micro is {}\".format(f1_score(Y_test, predicted_labels, average='micro')))\n",
        "# print(\"The f1_score - macro is {}\".format(f1_score(Y_test, predicted_labels, average='macro')))\n",
        "# print(\"The f1_score - weighted is {}\".format(f1_score(Y_test, predicted_labels, average='weighted')))"
      ],
      "execution_count": null,
      "outputs": []
    },
    {
      "cell_type": "markdown",
      "metadata": {
        "id": "fxcA8g_QN8jf"
      },
      "source": [
        "2. SGD Classifier"
      ]
    },
    {
      "cell_type": "code",
      "metadata": {
        "id": "SVZMuw6iOwA7"
      },
      "source": [
        "X_test = test['commentText']"
      ],
      "execution_count": null,
      "outputs": []
    },
    {
      "cell_type": "code",
      "metadata": {
        "id": "4F7qc2BDNw8v"
      },
      "source": [
        "model1 = make_pipeline(TfidfVectorizer(), SGDClassifier())"
      ],
      "execution_count": null,
      "outputs": []
    },
    {
      "cell_type": "code",
      "metadata": {
        "id": "JQUrlUkHOBiP",
        "colab": {
          "base_uri": "https://localhost:8080/"
        },
        "outputId": "6d61eaa8-8243-44ce-db08-26fe38ff441e"
      },
      "source": [
        "model1.fit(X.apply(lambda x: ' '.join(x)), Y)"
      ],
      "execution_count": null,
      "outputs": [
        {
          "output_type": "execute_result",
          "data": {
            "text/plain": [
              "Pipeline(steps=[('tfidfvectorizer', TfidfVectorizer()),\n",
              "                ('sgdclassifier', SGDClassifier())])"
            ]
          },
          "metadata": {},
          "execution_count": 45
        }
      ]
    },
    {
      "cell_type": "code",
      "metadata": {
        "id": "yZiWYdrzODnE"
      },
      "source": [
        "predicted_labels1 = model1.predict(X_test.apply(lambda x: ' '.join(x)))"
      ],
      "execution_count": null,
      "outputs": []
    },
    {
      "cell_type": "code",
      "metadata": {
        "id": "SZM6Gr52OJkF"
      },
      "source": [
        "# print(\"The accuracy is {}\".format(accuracy_score(Y_test, predicted_labels1)))\n",
        "# print(\"The f1_score - micro is {}\".format(f1_score(Y_test, predicted_labels1, average='micro')))\n",
        "# print(\"The f1_score - macro is {}\".format(f1_score(Y_test, predicted_labels1, average='macro')))\n",
        "# print(\"The f1_score - weighted is {}\".format(f1_score(Y_test, predicted_labels1, average='weighted')))"
      ],
      "execution_count": null,
      "outputs": []
    },
    {
      "cell_type": "code",
      "metadata": {
        "id": "hdKJHv_3WVK-"
      },
      "source": [
        "labels = pd.DataFrame(predicted_labels1, columns=['Label'])\n",
        "commentId = pd.DataFrame(test['CommentId'], columns=['CommentId'])"
      ],
      "execution_count": null,
      "outputs": []
    },
    {
      "cell_type": "code",
      "metadata": {
        "id": "cu9_mfyVWVK_"
      },
      "source": [
        "submission = pd.DataFrame()\n",
        "submission['CommentId'] = commentId['CommentId']\n",
        "submission['Label']= labels['Label']"
      ],
      "execution_count": null,
      "outputs": []
    },
    {
      "cell_type": "code",
      "metadata": {
        "id": "k0HG81YjWVK_"
      },
      "source": [
        "submission"
      ],
      "execution_count": null,
      "outputs": []
    },
    {
      "cell_type": "code",
      "metadata": {
        "id": "J0QWZ2rvWVLA"
      },
      "source": [
        "submission.to_csv('/content/drive/MyDrive/Colab Notebooks/submission_sgd.csv', sep='\\t', index=None)"
      ],
      "execution_count": null,
      "outputs": []
    },
    {
      "cell_type": "markdown",
      "metadata": {
        "id": "G_cWIMAyOSi5"
      },
      "source": [
        "3. Logistic Regression"
      ]
    },
    {
      "cell_type": "code",
      "metadata": {
        "id": "HffBHTt2OyPG"
      },
      "source": [
        "X_test = test['commentText']"
      ],
      "execution_count": null,
      "outputs": []
    },
    {
      "cell_type": "code",
      "metadata": {
        "id": "lW_b-upqOVYm"
      },
      "source": [
        "model2 = make_pipeline(TfidfVectorizer(), LogisticRegression())"
      ],
      "execution_count": null,
      "outputs": []
    },
    {
      "cell_type": "code",
      "metadata": {
        "id": "P6r--8jvOZ5g",
        "colab": {
          "base_uri": "https://localhost:8080/"
        },
        "outputId": "1b861499-60f1-47d4-9e14-1ba0f372ebfd"
      },
      "source": [
        "model2.fit(X.apply(lambda x: ' '.join(x)), Y)"
      ],
      "execution_count": null,
      "outputs": [
        {
          "output_type": "stream",
          "name": "stderr",
          "text": [
            "/usr/local/lib/python3.7/dist-packages/sklearn/linear_model/_logistic.py:818: ConvergenceWarning: lbfgs failed to converge (status=1):\n",
            "STOP: TOTAL NO. of ITERATIONS REACHED LIMIT.\n",
            "\n",
            "Increase the number of iterations (max_iter) or scale the data as shown in:\n",
            "    https://scikit-learn.org/stable/modules/preprocessing.html\n",
            "Please also refer to the documentation for alternative solver options:\n",
            "    https://scikit-learn.org/stable/modules/linear_model.html#logistic-regression\n",
            "  extra_warning_msg=_LOGISTIC_SOLVER_CONVERGENCE_MSG,\n"
          ]
        },
        {
          "output_type": "execute_result",
          "data": {
            "text/plain": [
              "Pipeline(steps=[('tfidfvectorizer', TfidfVectorizer()),\n",
              "                ('logisticregression', LogisticRegression())])"
            ]
          },
          "metadata": {},
          "execution_count": 45
        }
      ]
    },
    {
      "cell_type": "code",
      "metadata": {
        "id": "S2wEjh5HOejX"
      },
      "source": [
        "predicted_labels2 = model2.predict(X_test.apply(lambda x: ' '.join(x)))"
      ],
      "execution_count": null,
      "outputs": []
    },
    {
      "cell_type": "code",
      "metadata": {
        "id": "189ENqKaiYvh"
      },
      "source": [
        "labels = pd.DataFrame(predicted_labels2, columns=['Label'])\n",
        "commentId = pd.DataFrame(test['CommentId'], columns=['CommentId'])"
      ],
      "execution_count": null,
      "outputs": []
    },
    {
      "cell_type": "code",
      "metadata": {
        "id": "ZTKO7Q-WXXQ5"
      },
      "source": [
        "submission = pd.DataFrame()\n",
        "submission['CommentId'] = commentId['CommentId']\n",
        "submission['Label']= labels['Label']"
      ],
      "execution_count": null,
      "outputs": []
    },
    {
      "cell_type": "code",
      "metadata": {
        "id": "K5VgqyxwoOsf"
      },
      "source": [
        "submission"
      ],
      "execution_count": null,
      "outputs": []
    },
    {
      "cell_type": "code",
      "metadata": {
        "id": "4oS8Odr4Xd_R"
      },
      "source": [
        "submission.to_csv('/content/drive/MyDrive/Colab Notebooks/submission_logistic.csv', sep='\\t', index=None)"
      ],
      "execution_count": null,
      "outputs": []
    },
    {
      "cell_type": "code",
      "metadata": {
        "id": "om4WLB55Ogqw"
      },
      "source": [
        "# print(\"The accuracy is {}\".format(accuracy_score(Y_test, predicted_labels2)))\n",
        "# print(\"The f1_score - micro is {}\".format(f1_score(Y_test, predicted_labels2, average='micro')))\n",
        "# print(\"The f1_score - macro is {}\".format(f1_score(Y_test, predicted_labels2, average='macro')))\n",
        "# print(\"The f1_score - weighted is {}\".format(f1_score(Y_test, predicted_labels2, average='weighted')))"
      ],
      "execution_count": null,
      "outputs": []
    },
    {
      "cell_type": "markdown",
      "metadata": {
        "id": "_lZhZye_541t"
      },
      "source": [
        "Accuracy"
      ]
    },
    {
      "cell_type": "code",
      "metadata": {
        "id": "N-eyKlQR5mc9",
        "colab": {
          "base_uri": "https://localhost:8080/"
        },
        "outputId": "42e1faae-5051-463e-b009-fcfca32ca755"
      },
      "source": [
        "pip install matplotlib"
      ],
      "execution_count": null,
      "outputs": [
        {
          "output_type": "stream",
          "name": "stdout",
          "text": [
            "Requirement already satisfied: matplotlib in /usr/local/lib/python3.7/dist-packages (3.2.2)\n",
            "Requirement already satisfied: pyparsing!=2.0.4,!=2.1.2,!=2.1.6,>=2.0.1 in /usr/local/lib/python3.7/dist-packages (from matplotlib) (3.0.6)\n",
            "Requirement already satisfied: numpy>=1.11 in /usr/local/lib/python3.7/dist-packages (from matplotlib) (1.19.5)\n",
            "Requirement already satisfied: cycler>=0.10 in /usr/local/lib/python3.7/dist-packages (from matplotlib) (0.11.0)\n",
            "Requirement already satisfied: python-dateutil>=2.1 in /usr/local/lib/python3.7/dist-packages (from matplotlib) (2.8.2)\n",
            "Requirement already satisfied: kiwisolver>=1.0.1 in /usr/local/lib/python3.7/dist-packages (from matplotlib) (1.3.2)\n",
            "Requirement already satisfied: six>=1.5 in /usr/local/lib/python3.7/dist-packages (from python-dateutil>=2.1->matplotlib) (1.15.0)\n"
          ]
        }
      ]
    },
    {
      "cell_type": "code",
      "metadata": {
        "colab": {
          "base_uri": "https://localhost:8080/",
          "height": 344
        },
        "id": "6i97oYUi5ntk",
        "outputId": "66fcf757-9850-4e3d-e029-5e66e3ec6826"
      },
      "source": [
        "import numpy as np\n",
        "import matplotlib.pyplot as plt\n",
        " \n",
        "  \n",
        "# creating the dataset\n",
        "data = {'Naive Bayes':0.9030257989170825, 'SGD Classifier':0.9030257989170825, 'Logistic Regression':0.9206667374455887}\n",
        "models = list(data.keys())\n",
        "values = list(data.values())\n",
        "  \n",
        "fig = plt.figure(figsize = (10, 5))\n",
        " \n",
        "# creating the bar plot\n",
        "plt.bar(models, values, color ='green',\n",
        "        width = 0.4)\n",
        "\n",
        "plt.ylabel(\"Accuracy\", labelpad=15)\n",
        "plt.xlabel(\"Models\", labelpad=15)\n",
        "plt.show()"
      ],
      "execution_count": null,
      "outputs": [
        {
          "output_type": "display_data",
          "data": {
            "image/png": "[encoded data removed]",
            "text/plain": [
              "<Figure size 720x360 with 1 Axes>"
            ]
          },
          "metadata": {
            "needs_background": "light"
          }
        }
      ]
    },
    {
      "cell_type": "markdown",
      "metadata": {
        "id": "vwxd-QE557lp"
      },
      "source": [
        "f1_Score"
      ]
    },
    {
      "cell_type": "code",
      "metadata": {
        "colab": {
          "base_uri": "https://localhost:8080/",
          "height": 290
        },
        "id": "WmR97eTJs5oJ",
        "outputId": "cae33773-505c-44fa-86ac-72d0bf227c8e"
      },
      "source": [
        "barWidth = 0.25\n",
        "\n",
        "bars1 = [0.9030257989170823, 0.9030257989170823, 0.9206667374455887]\n",
        "bars2 = [0.8697635654235085, 0.8697635654235085, 0.8916123613334379]\n",
        "bars3 = [0.9019712081793534, 0.9019712081793534, 0.9190731269837794]\n",
        "\n",
        "r1 = np.arange(len(bars1))\n",
        "r2 = [x + barWidth for x in r1]\n",
        "r3 = [x + barWidth for x in r2]\n",
        "\n",
        "plt.bar(r1, bars1, color='#7f6d5f', width=barWidth, edgecolor='white', label='f1_score - micro')\n",
        "plt.bar(r2, bars2, color='#557f2d', width=barWidth, edgecolor='white', label='f1_score - macro')\n",
        "plt.bar(r3, bars3, color='#2d7f5e', width=barWidth, edgecolor='white', label='f1_score - weighted')\n",
        "\n",
        "plt.xticks([r + barWidth for r in range(len(bars1))], ['Naive Bayes', 'SGD Classifier', 'Logistic Regression'])\n",
        "\n",
        "plt.xlabel('Models', labelpad=15)\n",
        "plt.ylabel('f1_score', labelpad=15)\n",
        "\n",
        "plt.legend(bbox_to_anchor= (1.5, 1), loc='upper right', borderaxespad=0)\n",
        "plt.show() "
      ],
      "execution_count": null,
      "outputs": [
        {
          "output_type": "display_data",
          "data": {
            "image/png": "[encoded data removed]",
            "text/plain": [
              "<Figure size 432x288 with 1 Axes>"
            ]
          },
          "metadata": {
            "needs_background": "light"
          }
        }
      ]
    },
    {
      "cell_type": "markdown",
      "metadata": {
        "id": "sb1Dy6fnaqVM"
      },
      "source": [
        "Word Cloud"
      ]
    },
    {
      "cell_type": "code",
      "metadata": {
        "id": "xZACz4_pd0X3"
      },
      "source": [
        "# # Python program to generate WordCloud\n",
        "\n",
        "# # importing all necessary modules\n",
        "# from wordcloud import WordCloud, STOPWORDS\n",
        "# import matplotlib.pyplot as plt\n",
        "# import pandas as pd\n",
        "\n",
        "# df = pd.read_csv(r\"ShareChat-IndoML-Datathon-NSFW-CommentChallenge_Train.csv\", encoding =\"latin-1\")\n",
        "\n",
        "# comment_words = ''\n",
        "# stopwords = set(STOPWORDS)\n",
        "\n",
        "# # iterate through the csv file\n",
        "# for val in df.CONTENT:\n",
        "\t\n",
        "# \t# typecaste each val to string\n",
        "# \tval = str(val)\n",
        "\n",
        "# \t# split the value\n",
        "# \ttokens = val.split()\n",
        "\t\n",
        "# \t# Converts each token into lowercase\n",
        "# \tfor i in range(len(tokens)):\n",
        "# \t\ttokens[i] = tokens[i].lower()\n",
        "\t\n",
        "# \tcomment_words += \" \".join(tokens)+\" \"\n",
        "\n",
        "# wordcloud = WordCloud(width = 800, height = 800,\n",
        "# \t\t\t\tbackground_color ='white',\n",
        "# \t\t\t\tstopwords = stopwords,\n",
        "# \t\t\t\tmin_font_size = 10).generate(comment_words)\n",
        "\n",
        "# # plot the WordCloud image\t\t\t\t\t\n",
        "# plt.figure(figsize = (8, 8), facecolor = None)\n",
        "# plt.imshow(wordcloud)\n",
        "# plt.axis(\"off\")\n",
        "# plt.tight_layout(pad = 0)\n",
        "\n",
        "# plt.show()\n"
      ],
      "execution_count": null,
      "outputs": []
    }
  ]
}